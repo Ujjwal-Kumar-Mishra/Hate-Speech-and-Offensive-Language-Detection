{
 "cells": [
  {
   "cell_type": "code",
   "execution_count": 1,
   "id": "f48f7859",
   "metadata": {
    "execution": {
     "iopub.execute_input": "2024-10-23T02:18:21.716312Z",
     "iopub.status.busy": "2024-10-23T02:18:21.715979Z",
     "iopub.status.idle": "2024-10-23T02:18:34.815264Z",
     "shell.execute_reply": "2024-10-23T02:18:34.814128Z"
    },
    "papermill": {
     "duration": 13.119366,
     "end_time": "2024-10-23T02:18:34.817652",
     "exception": false,
     "start_time": "2024-10-23T02:18:21.698286",
     "status": "completed"
    },
    "tags": [],
    "vscode": {
     "languageId": "python"
    }
   },
   "outputs": [
    {
     "name": "stdout",
     "output_type": "stream",
     "text": [
      "Requirement already satisfied: nltk in /opt/conda/lib/python3.10/site-packages (3.2.4)\r\n",
      "Requirement already satisfied: six in /opt/conda/lib/python3.10/site-packages (from nltk) (1.16.0)\r\n",
      "Note: you may need to restart the kernel to use updated packages.\n"
     ]
    }
   ],
   "source": [
    "pip install nltk\n"
   ]
  },
  {
   "cell_type": "code",
   "execution_count": 2,
   "id": "7c28ebb0",
   "metadata": {
    "execution": {
     "iopub.execute_input": "2024-10-23T02:18:34.856456Z",
     "iopub.status.busy": "2024-10-23T02:18:34.855634Z",
     "iopub.status.idle": "2024-10-23T02:18:46.492128Z",
     "shell.execute_reply": "2024-10-23T02:18:46.490865Z"
    },
    "papermill": {
     "duration": 11.65883,
     "end_time": "2024-10-23T02:18:46.494416",
     "exception": false,
     "start_time": "2024-10-23T02:18:34.835586",
     "status": "completed"
    },
    "tags": [],
    "vscode": {
     "languageId": "python"
    }
   },
   "outputs": [
    {
     "name": "stdout",
     "output_type": "stream",
     "text": [
      "Requirement already satisfied: tensorflow in /opt/conda/lib/python3.10/site-packages (2.16.1)\r\n",
      "Requirement already satisfied: absl-py>=1.0.0 in /opt/conda/lib/python3.10/site-packages (from tensorflow) (1.4.0)\r\n",
      "Requirement already satisfied: astunparse>=1.6.0 in /opt/conda/lib/python3.10/site-packages (from tensorflow) (1.6.3)\r\n",
      "Requirement already satisfied: flatbuffers>=23.5.26 in /opt/conda/lib/python3.10/site-packages (from tensorflow) (24.3.25)\r\n",
      "Requirement already satisfied: gast!=0.5.0,!=0.5.1,!=0.5.2,>=0.2.1 in /opt/conda/lib/python3.10/site-packages (from tensorflow) (0.5.4)\r\n",
      "Requirement already satisfied: google-pasta>=0.1.1 in /opt/conda/lib/python3.10/site-packages (from tensorflow) (0.2.0)\r\n",
      "Requirement already satisfied: h5py>=3.10.0 in /opt/conda/lib/python3.10/site-packages (from tensorflow) (3.11.0)\r\n",
      "Requirement already satisfied: libclang>=13.0.0 in /opt/conda/lib/python3.10/site-packages (from tensorflow) (18.1.1)\r\n",
      "Requirement already satisfied: ml-dtypes~=0.3.1 in /opt/conda/lib/python3.10/site-packages (from tensorflow) (0.3.2)\r\n",
      "Requirement already satisfied: opt-einsum>=2.3.2 in /opt/conda/lib/python3.10/site-packages (from tensorflow) (3.3.0)\r\n",
      "Requirement already satisfied: packaging in /opt/conda/lib/python3.10/site-packages (from tensorflow) (21.3)\r\n",
      "Requirement already satisfied: protobuf!=4.21.0,!=4.21.1,!=4.21.2,!=4.21.3,!=4.21.4,!=4.21.5,<5.0.0dev,>=3.20.3 in /opt/conda/lib/python3.10/site-packages (from tensorflow) (3.20.3)\r\n",
      "Requirement already satisfied: requests<3,>=2.21.0 in /opt/conda/lib/python3.10/site-packages (from tensorflow) (2.32.3)\r\n",
      "Requirement already satisfied: setuptools in /opt/conda/lib/python3.10/site-packages (from tensorflow) (70.0.0)\r\n",
      "Requirement already satisfied: six>=1.12.0 in /opt/conda/lib/python3.10/site-packages (from tensorflow) (1.16.0)\r\n",
      "Requirement already satisfied: termcolor>=1.1.0 in /opt/conda/lib/python3.10/site-packages (from tensorflow) (2.4.0)\r\n",
      "Requirement already satisfied: typing-extensions>=3.6.6 in /opt/conda/lib/python3.10/site-packages (from tensorflow) (4.12.2)\r\n",
      "Requirement already satisfied: wrapt>=1.11.0 in /opt/conda/lib/python3.10/site-packages (from tensorflow) (1.16.0)\r\n",
      "Requirement already satisfied: grpcio<2.0,>=1.24.3 in /opt/conda/lib/python3.10/site-packages (from tensorflow) (1.62.2)\r\n",
      "Requirement already satisfied: tensorboard<2.17,>=2.16 in /opt/conda/lib/python3.10/site-packages (from tensorflow) (2.16.2)\r\n",
      "Requirement already satisfied: keras>=3.0.0 in /opt/conda/lib/python3.10/site-packages (from tensorflow) (3.3.3)\r\n",
      "Requirement already satisfied: tensorflow-io-gcs-filesystem>=0.23.1 in /opt/conda/lib/python3.10/site-packages (from tensorflow) (0.37.0)\r\n",
      "Requirement already satisfied: numpy<2.0.0,>=1.23.5 in /opt/conda/lib/python3.10/site-packages (from tensorflow) (1.26.4)\r\n",
      "Requirement already satisfied: wheel<1.0,>=0.23.0 in /opt/conda/lib/python3.10/site-packages (from astunparse>=1.6.0->tensorflow) (0.43.0)\r\n",
      "Requirement already satisfied: rich in /opt/conda/lib/python3.10/site-packages (from keras>=3.0.0->tensorflow) (13.7.1)\r\n",
      "Requirement already satisfied: namex in /opt/conda/lib/python3.10/site-packages (from keras>=3.0.0->tensorflow) (0.0.8)\r\n",
      "Requirement already satisfied: optree in /opt/conda/lib/python3.10/site-packages (from keras>=3.0.0->tensorflow) (0.11.0)\r\n",
      "Requirement already satisfied: charset-normalizer<4,>=2 in /opt/conda/lib/python3.10/site-packages (from requests<3,>=2.21.0->tensorflow) (3.3.2)\r\n",
      "Requirement already satisfied: idna<4,>=2.5 in /opt/conda/lib/python3.10/site-packages (from requests<3,>=2.21.0->tensorflow) (3.7)\r\n",
      "Requirement already satisfied: urllib3<3,>=1.21.1 in /opt/conda/lib/python3.10/site-packages (from requests<3,>=2.21.0->tensorflow) (1.26.18)\r\n",
      "Requirement already satisfied: certifi>=2017.4.17 in /opt/conda/lib/python3.10/site-packages (from requests<3,>=2.21.0->tensorflow) (2024.8.30)\r\n",
      "Requirement already satisfied: markdown>=2.6.8 in /opt/conda/lib/python3.10/site-packages (from tensorboard<2.17,>=2.16->tensorflow) (3.6)\r\n",
      "Requirement already satisfied: tensorboard-data-server<0.8.0,>=0.7.0 in /opt/conda/lib/python3.10/site-packages (from tensorboard<2.17,>=2.16->tensorflow) (0.7.2)\r\n",
      "Requirement already satisfied: werkzeug>=1.0.1 in /opt/conda/lib/python3.10/site-packages (from tensorboard<2.17,>=2.16->tensorflow) (3.0.4)\r\n",
      "Requirement already satisfied: pyparsing!=3.0.5,>=2.0.2 in /opt/conda/lib/python3.10/site-packages (from packaging->tensorflow) (3.1.2)\r\n",
      "Requirement already satisfied: MarkupSafe>=2.1.1 in /opt/conda/lib/python3.10/site-packages (from werkzeug>=1.0.1->tensorboard<2.17,>=2.16->tensorflow) (2.1.5)\r\n",
      "Requirement already satisfied: markdown-it-py>=2.2.0 in /opt/conda/lib/python3.10/site-packages (from rich->keras>=3.0.0->tensorflow) (3.0.0)\r\n",
      "Requirement already satisfied: pygments<3.0.0,>=2.13.0 in /opt/conda/lib/python3.10/site-packages (from rich->keras>=3.0.0->tensorflow) (2.18.0)\r\n",
      "Requirement already satisfied: mdurl~=0.1 in /opt/conda/lib/python3.10/site-packages (from markdown-it-py>=2.2.0->rich->keras>=3.0.0->tensorflow) (0.1.2)\r\n",
      "Note: you may need to restart the kernel to use updated packages.\n"
     ]
    }
   ],
   "source": [
    "pip install tensorflow\n"
   ]
  },
  {
   "cell_type": "code",
   "execution_count": 3,
   "id": "feceba00",
   "metadata": {
    "execution": {
     "iopub.execute_input": "2024-10-23T02:18:46.526640Z",
     "iopub.status.busy": "2024-10-23T02:18:46.526277Z",
     "iopub.status.idle": "2024-10-23T02:18:57.985390Z",
     "shell.execute_reply": "2024-10-23T02:18:57.984183Z"
    },
    "papermill": {
     "duration": 11.476992,
     "end_time": "2024-10-23T02:18:57.987477",
     "exception": false,
     "start_time": "2024-10-23T02:18:46.510485",
     "status": "completed"
    },
    "tags": [],
    "vscode": {
     "languageId": "python"
    }
   },
   "outputs": [
    {
     "name": "stdout",
     "output_type": "stream",
     "text": [
      "Requirement already satisfied: imbalanced-learn in /opt/conda/lib/python3.10/site-packages (0.12.3)\r\n",
      "Requirement already satisfied: numpy>=1.17.3 in /opt/conda/lib/python3.10/site-packages (from imbalanced-learn) (1.26.4)\r\n",
      "Requirement already satisfied: scipy>=1.5.0 in /opt/conda/lib/python3.10/site-packages (from imbalanced-learn) (1.14.1)\r\n",
      "Requirement already satisfied: scikit-learn>=1.0.2 in /opt/conda/lib/python3.10/site-packages (from imbalanced-learn) (1.2.2)\r\n",
      "Requirement already satisfied: joblib>=1.1.1 in /opt/conda/lib/python3.10/site-packages (from imbalanced-learn) (1.4.2)\r\n",
      "Requirement already satisfied: threadpoolctl>=2.0.0 in /opt/conda/lib/python3.10/site-packages (from imbalanced-learn) (3.5.0)\r\n",
      "Note: you may need to restart the kernel to use updated packages.\n"
     ]
    }
   ],
   "source": [
    "pip install imbalanced-learn\n"
   ]
  },
  {
   "cell_type": "markdown",
   "id": "e53fb691",
   "metadata": {
    "papermill": {
     "duration": 0.014412,
     "end_time": "2024-10-23T02:18:58.016812",
     "exception": false,
     "start_time": "2024-10-23T02:18:58.002400",
     "status": "completed"
    },
    "tags": []
   },
   "source": []
  },
  {
   "cell_type": "markdown",
   "id": "f5d27e97",
   "metadata": {
    "papermill": {
     "duration": 0.014314,
     "end_time": "2024-10-23T02:18:58.045758",
     "exception": false,
     "start_time": "2024-10-23T02:18:58.031444",
     "status": "completed"
    },
    "tags": []
   },
   "source": [
    "## Imports"
   ]
  },
  {
   "cell_type": "code",
   "execution_count": 4,
   "id": "7c30bf89",
   "metadata": {
    "execution": {
     "iopub.execute_input": "2024-10-23T02:18:58.077560Z",
     "iopub.status.busy": "2024-10-23T02:18:58.077220Z",
     "iopub.status.idle": "2024-10-23T02:19:18.560962Z",
     "shell.execute_reply": "2024-10-23T02:19:18.560161Z"
    },
    "papermill": {
     "duration": 20.502581,
     "end_time": "2024-10-23T02:19:18.563221",
     "exception": false,
     "start_time": "2024-10-23T02:18:58.060640",
     "status": "completed"
    },
    "tags": [],
    "vscode": {
     "languageId": "python"
    }
   },
   "outputs": [],
   "source": [
    "import numpy as np\n",
    "import pandas as pd\n",
    "import torch\n",
    "import torch.nn as nn\n",
    "import re\n",
    "import statistics as stats  \n",
    "import matplotlib.pyplot as plt\n",
    "import nltk\n",
    "import tensorflow as tf\n",
    "\n",
    "from imblearn.over_sampling import SMOTE\n",
    "from sklearn.utils.class_weight import compute_class_weight\n",
    "from tensorflow.keras.preprocessing.text import Tokenizer\n",
    "from sklearn.feature_extraction.text import TfidfVectorizer\n",
    "from sklearn.model_selection import train_test_split\n",
    "from tensorflow.keras.preprocessing.sequence import pad_sequences\n",
    "from tensorflow.keras.models import Sequential\n",
    "from tensorflow.keras.layers import Embedding, LSTM, Dense, Dropout\n",
    "from tensorflow.keras.callbacks import EarlyStopping\n",
    "from nltk.corpus import stopwords\n",
    "from keras.utils import to_categorical\n",
    "from tensorflow.keras.models import Sequential\n",
    "from tensorflow.keras.layers import Embedding, Conv1D, MaxPooling1D, LSTM, Dense, Dropout\n",
    "from tensorflow.keras.layers import BatchNormalization\n",
    "from tensorflow.keras.regularizers import l2\n",
    "from sklearn.metrics import f1_score, precision_score, recall_score\n",
    "from tensorflow.keras.models import Sequential\n",
    "from tensorflow.keras.layers import Embedding, LSTM, Dense, Dropout, BatchNormalization, Bidirectional\n",
    "from tensorflow.keras.regularizers import l2\n",
    "from tensorflow.keras.optimizers import Adam\n",
    "from nltk.tokenize import word_tokenize\n",
    "from sklearn.metrics import classification_report, accuracy_score, confusion_matrix\n",
    "from sklearn.metrics import ConfusionMatrixDisplay\n"
   ]
  },
  {
   "cell_type": "code",
   "execution_count": 5,
   "id": "5c83f04f",
   "metadata": {
    "execution": {
     "iopub.execute_input": "2024-10-23T02:19:18.594833Z",
     "iopub.status.busy": "2024-10-23T02:19:18.593790Z",
     "iopub.status.idle": "2024-10-23T02:19:18.692896Z",
     "shell.execute_reply": "2024-10-23T02:19:18.691977Z"
    },
    "papermill": {
     "duration": 0.116869,
     "end_time": "2024-10-23T02:19:18.695113",
     "exception": false,
     "start_time": "2024-10-23T02:19:18.578244",
     "status": "completed"
    },
    "tags": [],
    "vscode": {
     "languageId": "python"
    }
   },
   "outputs": [
    {
     "name": "stdout",
     "output_type": "stream",
     "text": [
      "[nltk_data] Downloading package stopwords to /usr/share/nltk_data...\n",
      "[nltk_data]   Package stopwords is already up-to-date!\n"
     ]
    },
    {
     "data": {
      "text/plain": [
       "True"
      ]
     },
     "execution_count": 5,
     "metadata": {},
     "output_type": "execute_result"
    }
   ],
   "source": [
    "nltk.download('stopwords')"
   ]
  },
  {
   "cell_type": "markdown",
   "id": "ccfa2c70",
   "metadata": {
    "papermill": {
     "duration": 0.015266,
     "end_time": "2024-10-23T02:19:18.725553",
     "exception": false,
     "start_time": "2024-10-23T02:19:18.710287",
     "status": "completed"
    },
    "tags": []
   },
   "source": [
    "## Functions/Classes"
   ]
  },
  {
   "cell_type": "code",
   "execution_count": 6,
   "id": "a19c5a6a",
   "metadata": {
    "execution": {
     "iopub.execute_input": "2024-10-23T02:19:18.758491Z",
     "iopub.status.busy": "2024-10-23T02:19:18.758086Z",
     "iopub.status.idle": "2024-10-23T02:19:18.764777Z",
     "shell.execute_reply": "2024-10-23T02:19:18.763891Z"
    },
    "papermill": {
     "duration": 0.025302,
     "end_time": "2024-10-23T02:19:18.766793",
     "exception": false,
     "start_time": "2024-10-23T02:19:18.741491",
     "status": "completed"
    },
    "tags": [],
    "vscode": {
     "languageId": "python"
    }
   },
   "outputs": [],
   "source": [
    "def focal_loss(gamma=2., alpha=0.25):\n",
    "    def focal_loss_fixed(y_true, y_pred):\n",
    "        epsilon = tf.keras.backend.epsilon()\n",
    "        y_true = tf.convert_to_tensor(y_true, tf.float32)\n",
    "        y_pred = tf.clip_by_value(y_pred, epsilon, 1. - epsilon)\n",
    "        cross_entropy = -y_true * tf.math.log(y_pred)\n",
    "        weight = alpha * tf.math.pow(1 - y_pred, gamma)\n",
    "        loss = weight * cross_entropy\n",
    "        return tf.math.reduce_mean(tf.math.reduce_sum(loss, axis=-1))\n",
    "    return focal_loss_fixed"
   ]
  },
  {
   "cell_type": "code",
   "execution_count": 7,
   "id": "2856bf1c",
   "metadata": {
    "execution": {
     "iopub.execute_input": "2024-10-23T02:19:18.800317Z",
     "iopub.status.busy": "2024-10-23T02:19:18.799794Z",
     "iopub.status.idle": "2024-10-23T02:19:18.811711Z",
     "shell.execute_reply": "2024-10-23T02:19:18.810849Z"
    },
    "papermill": {
     "duration": 0.031149,
     "end_time": "2024-10-23T02:19:18.813706",
     "exception": false,
     "start_time": "2024-10-23T02:19:18.782557",
     "status": "completed"
    },
    "tags": [],
    "vscode": {
     "languageId": "python"
    }
   },
   "outputs": [],
   "source": [
    "class MetricsCallback(tf.keras.callbacks.Callback):\n",
    "    def __init__(self, validation_data, train_data):\n",
    "        super().__init__()\n",
    "        self.validation_data = validation_data\n",
    "        self.train_data = train_data\n",
    "        self.train_accuracy = []\n",
    "        self.val_accuracy = []\n",
    "        self.train_f1 = []\n",
    "        self.val_f1 = []\n",
    "        self.train_precision = []\n",
    "        self.val_precision = []\n",
    "        self.train_recall = []\n",
    "        self.val_recall = []\n",
    "\n",
    "    def on_epoch_end(self, epoch, logs=None):\n",
    "        val_X, val_y = self.validation_data\n",
    "        y_pred_val = (self.model.predict(val_X) > 0.5).astype(\"int32\")\n",
    "        \n",
    "        train_X, train_y = self.train_data\n",
    "        y_pred_train = (self.model.predict(train_X) > 0.5).astype(\"int32\")\n",
    "\n",
    "        val_f1 = f1_score(val_y, y_pred_val, average='weighted', zero_division=0)\n",
    "        val_precision = precision_score(val_y, y_pred_val, average='weighted', zero_division=0)\n",
    "        val_recall = recall_score(val_y, y_pred_val, average='weighted', zero_division=0)\n",
    "\n",
    "        train_f1 = f1_score(train_y, y_pred_train, average='weighted', zero_division=0)\n",
    "        train_precision = precision_score(train_y, y_pred_train, average='weighted', zero_division=0)\n",
    "        train_recall = recall_score(train_y, y_pred_train, average='weighted', zero_division=0)\n",
    "\n",
    "        self.train_accuracy.append(logs['accuracy'])\n",
    "        self.val_accuracy.append(logs['val_accuracy'])\n",
    "        self.train_f1.append(train_f1)\n",
    "        self.val_f1.append(val_f1)\n",
    "        self.train_precision.append(train_precision)\n",
    "        self.val_precision.append(val_precision)\n",
    "        self.train_recall.append(train_recall)\n",
    "        self.val_recall.append(val_recall)\n",
    "\n",
    "        # Exibir as métricas no final de cada época\n",
    "        print(f\"\\nEpoch {epoch + 1} - Train F1: {train_f1:.4f}, Train Precision: {train_precision:.4f}, Train Recall: {train_recall:.4f}\")\n",
    "        print(f\"Val F1: {val_f1:.4f}, Val Precision: {val_precision:.4f}, Val Recall: {val_recall:.4f}\")\n"
   ]
  },
  {
   "cell_type": "code",
   "execution_count": 8,
   "id": "51b4a9ed",
   "metadata": {
    "execution": {
     "iopub.execute_input": "2024-10-23T02:19:18.844146Z",
     "iopub.status.busy": "2024-10-23T02:19:18.843851Z",
     "iopub.status.idle": "2024-10-23T02:19:18.855890Z",
     "shell.execute_reply": "2024-10-23T02:19:18.855033Z"
    },
    "papermill": {
     "duration": 0.029465,
     "end_time": "2024-10-23T02:19:18.857749",
     "exception": false,
     "start_time": "2024-10-23T02:19:18.828284",
     "status": "completed"
    },
    "tags": [],
    "vscode": {
     "languageId": "python"
    }
   },
   "outputs": [],
   "source": [
    "\n",
    "\n",
    "class MetricsCallback_2(tf.keras.callbacks.Callback):\n",
    "    def __init__(self, validation_data, train_data):\n",
    "        super().__init__()\n",
    "        self.validation_data = validation_data\n",
    "        self.train_data = train_data\n",
    "        self.train_accuracy = []\n",
    "        self.val_accuracy = []\n",
    "        self.train_f1 = []\n",
    "        self.val_f1 = []\n",
    "        self.train_precision = []\n",
    "        self.val_precision = []\n",
    "        self.train_recall = []\n",
    "        self.val_recall = []\n",
    "\n",
    "    def on_epoch_end(self, epoch, logs=None):\n",
    "        # Get validation data\n",
    "        val_X, val_y = self.validation_data\n",
    "        train_X, train_y = self.train_data\n",
    "\n",
    "        # Predict validation and training data\n",
    "        y_pred_val = np.argmax(self.model.predict(val_X), axis=1)  # Convert to class labels\n",
    "        y_pred_train = np.argmax(self.model.predict(train_X), axis=1)  # Convert to class labels\n",
    "\n",
    "        # Calculate validation metrics\n",
    "        val_f1 = f1_score(val_y, y_pred_val, average='weighted', zero_division=0)\n",
    "        val_precision = precision_score(val_y, y_pred_val, average='weighted', zero_division=0)\n",
    "        val_recall = recall_score(val_y, y_pred_val, average='weighted', zero_division=0)\n",
    "        \n",
    "        # Calculate training metrics\n",
    "        train_f1 = f1_score(train_y, y_pred_train, average='weighted', zero_division=0)\n",
    "        train_precision = precision_score(train_y, y_pred_train, average='weighted', zero_division=0)\n",
    "        train_recall = recall_score(train_y, y_pred_train, average='weighted', zero_division=0)\n",
    "\n",
    "        # Store metrics\n",
    "        self.train_accuracy.append(logs['accuracy'])\n",
    "        self.val_accuracy.append(logs['val_accuracy'])\n",
    "        self.train_f1.append(train_f1)\n",
    "        self.val_f1.append(val_f1)\n",
    "        self.train_precision.append(train_precision)\n",
    "        self.val_precision.append(val_precision)\n",
    "        self.train_recall.append(train_recall)\n",
    "        self.val_recall.append(val_recall)\n",
    "\n",
    "        # Print metrics for each epoch\n",
    "        print(f\"\\nEpoch {epoch + 1} - Train F1: {train_f1:.4f}, Train Precision: {train_precision:.4f}, Train Recall: {train_recall:.4f}\")\n",
    "        print(f\"Val F1: {val_f1:.4f}, Val Precision: {val_precision:.4f}, Val Recall: {val_recall:.4f}\")\n"
   ]
  },
  {
   "cell_type": "code",
   "execution_count": 9,
   "id": "91fb433b",
   "metadata": {
    "execution": {
     "iopub.execute_input": "2024-10-23T02:19:18.889657Z",
     "iopub.status.busy": "2024-10-23T02:19:18.888948Z",
     "iopub.status.idle": "2024-10-23T02:19:18.898897Z",
     "shell.execute_reply": "2024-10-23T02:19:18.898050Z"
    },
    "papermill": {
     "duration": 0.028486,
     "end_time": "2024-10-23T02:19:18.900802",
     "exception": false,
     "start_time": "2024-10-23T02:19:18.872316",
     "status": "completed"
    },
    "tags": [],
    "vscode": {
     "languageId": "python"
    }
   },
   "outputs": [],
   "source": [
    "def plot_metrics(metrics_callback):\n",
    "    epochs = range(1, len(metrics_callback.train_accuracy) + 1)\n",
    "\n",
    "    # Plotando a acurácia\n",
    "    plt.figure(figsize=(12, 8))\n",
    "    plt.subplot(2, 2, 1)\n",
    "    plt.plot(epochs, metrics_callback.train_accuracy, label='Train Accuracy')\n",
    "    plt.plot(epochs, metrics_callback.val_accuracy, label='Val Accuracy')\n",
    "    plt.title('Accuracy per Epoch')\n",
    "    plt.xlabel('Epochs')\n",
    "    plt.ylabel('Accuracy')\n",
    "    plt.legend()\n",
    "\n",
    "    # Plotando o F1-Score\n",
    "    plt.subplot(2, 2, 2)\n",
    "    plt.plot(epochs, metrics_callback.train_f1, label='Train F1-Score')\n",
    "    plt.plot(epochs, metrics_callback.val_f1, label='Val F1-Score')\n",
    "    plt.title('F1-Score per Epoch')\n",
    "    plt.xlabel('Epochs')\n",
    "    plt.ylabel('F1-Score')\n",
    "    plt.legend()\n",
    "\n",
    "    # Plotando a precisão\n",
    "    plt.subplot(2, 2, 3)\n",
    "    plt.plot(epochs, metrics_callback.train_precision, label='Train Precision')\n",
    "    plt.plot(epochs, metrics_callback.val_precision, label='Val Precision')\n",
    "    plt.title('Precision per Epoch')\n",
    "    plt.xlabel('Epochs')\n",
    "    plt.ylabel('Precision')\n",
    "    plt.legend()\n",
    "\n",
    "    # Plotando o recall\n",
    "    plt.subplot(2, 2, 4)\n",
    "    plt.plot(epochs, metrics_callback.train_recall, label='Train Recall')\n",
    "    plt.plot(epochs, metrics_callback.val_recall, label='Val Recall')\n",
    "    plt.title('Recall per Epoch')\n",
    "    plt.xlabel('Epochs')\n",
    "    plt.ylabel('Recall')\n",
    "    plt.legend()\n",
    "\n",
    "    plt.tight_layout()\n",
    "    plt.show()\n"
   ]
  },
  {
   "cell_type": "code",
   "execution_count": 10,
   "id": "62f7521b",
   "metadata": {
    "execution": {
     "iopub.execute_input": "2024-10-23T02:19:18.931385Z",
     "iopub.status.busy": "2024-10-23T02:19:18.930886Z",
     "iopub.status.idle": "2024-10-23T02:19:18.935640Z",
     "shell.execute_reply": "2024-10-23T02:19:18.934806Z"
    },
    "papermill": {
     "duration": 0.021846,
     "end_time": "2024-10-23T02:19:18.937470",
     "exception": false,
     "start_time": "2024-10-23T02:19:18.915624",
     "status": "completed"
    },
    "tags": [],
    "vscode": {
     "languageId": "python"
    }
   },
   "outputs": [],
   "source": [
    "def Conf_matrix(y_true, y_pred):\n",
    "    cm = confusion_matrix(y_true, y_pred)\n",
    "    disp = ConfusionMatrixDisplay(confusion_matrix=cm)\n",
    "    disp.plot(cmap=plt.cm.Blues)\n",
    "    plt.title('Confusion Matrix')\n",
    "    plt.show()"
   ]
  },
  {
   "cell_type": "code",
   "execution_count": 11,
   "id": "98e37a94",
   "metadata": {
    "execution": {
     "iopub.execute_input": "2024-10-23T02:19:18.967523Z",
     "iopub.status.busy": "2024-10-23T02:19:18.967215Z",
     "iopub.status.idle": "2024-10-23T02:19:18.971739Z",
     "shell.execute_reply": "2024-10-23T02:19:18.970894Z"
    },
    "papermill": {
     "duration": 0.021564,
     "end_time": "2024-10-23T02:19:18.973535",
     "exception": false,
     "start_time": "2024-10-23T02:19:18.951971",
     "status": "completed"
    },
    "tags": [],
    "vscode": {
     "languageId": "python"
    }
   },
   "outputs": [],
   "source": [
    "def Conf_matrix_2(y_true, y_pred):\n",
    "    cm = confusion_matrix(y_true, y_pred)\n",
    "    disp = ConfusionMatrixDisplay(confusion_matrix=cm)\n",
    "    disp.plot(cmap=plt.cm.Blues)\n",
    "    plt.show()"
   ]
  },
  {
   "cell_type": "markdown",
   "id": "cbd713e6",
   "metadata": {
    "papermill": {
     "duration": 0.014255,
     "end_time": "2024-10-23T02:19:19.002791",
     "exception": false,
     "start_time": "2024-10-23T02:19:18.988536",
     "status": "completed"
    },
    "tags": []
   },
   "source": [
    "## Data Loading"
   ]
  },
  {
   "cell_type": "code",
   "execution_count": 12,
   "id": "45388e94",
   "metadata": {
    "execution": {
     "iopub.execute_input": "2024-10-23T02:19:19.032811Z",
     "iopub.status.busy": "2024-10-23T02:19:19.032517Z",
     "iopub.status.idle": "2024-10-23T02:19:19.136805Z",
     "shell.execute_reply": "2024-10-23T02:19:19.135776Z"
    },
    "papermill": {
     "duration": 0.121572,
     "end_time": "2024-10-23T02:19:19.138807",
     "exception": false,
     "start_time": "2024-10-23T02:19:19.017235",
     "status": "completed"
    },
    "tags": [],
    "vscode": {
     "languageId": "python"
    }
   },
   "outputs": [],
   "source": [
    "device = 'cuda' if torch.cuda.is_available() else 'cpu'\n"
   ]
  },
  {
   "cell_type": "code",
   "execution_count": 13,
   "id": "c66c36c7",
   "metadata": {
    "execution": {
     "iopub.execute_input": "2024-10-23T02:19:19.169740Z",
     "iopub.status.busy": "2024-10-23T02:19:19.169426Z",
     "iopub.status.idle": "2024-10-23T02:19:19.282938Z",
     "shell.execute_reply": "2024-10-23T02:19:19.281992Z"
    },
    "papermill": {
     "duration": 0.131346,
     "end_time": "2024-10-23T02:19:19.285088",
     "exception": false,
     "start_time": "2024-10-23T02:19:19.153742",
     "status": "completed"
    },
    "tags": [],
    "vscode": {
     "languageId": "python"
    }
   },
   "outputs": [
    {
     "data": {
      "text/html": [
       "<div>\n",
       "<style scoped>\n",
       "    .dataframe tbody tr th:only-of-type {\n",
       "        vertical-align: middle;\n",
       "    }\n",
       "\n",
       "    .dataframe tbody tr th {\n",
       "        vertical-align: top;\n",
       "    }\n",
       "\n",
       "    .dataframe thead th {\n",
       "        text-align: right;\n",
       "    }\n",
       "</style>\n",
       "<table border=\"1\" class=\"dataframe\">\n",
       "  <thead>\n",
       "    <tr style=\"text-align: right;\">\n",
       "      <th></th>\n",
       "      <th>Unnamed: 0</th>\n",
       "      <th>count</th>\n",
       "      <th>hate_speech</th>\n",
       "      <th>offensive_language</th>\n",
       "      <th>neither</th>\n",
       "      <th>class</th>\n",
       "      <th>tweet</th>\n",
       "    </tr>\n",
       "  </thead>\n",
       "  <tbody>\n",
       "    <tr>\n",
       "      <th>0</th>\n",
       "      <td>0</td>\n",
       "      <td>3</td>\n",
       "      <td>0</td>\n",
       "      <td>0</td>\n",
       "      <td>3</td>\n",
       "      <td>2</td>\n",
       "      <td>!!! RT @mayasolovely: As a woman you shouldn't...</td>\n",
       "    </tr>\n",
       "    <tr>\n",
       "      <th>1</th>\n",
       "      <td>1</td>\n",
       "      <td>3</td>\n",
       "      <td>0</td>\n",
       "      <td>3</td>\n",
       "      <td>0</td>\n",
       "      <td>1</td>\n",
       "      <td>!!!!! RT @mleew17: boy dats cold...tyga dwn ba...</td>\n",
       "    </tr>\n",
       "    <tr>\n",
       "      <th>2</th>\n",
       "      <td>2</td>\n",
       "      <td>3</td>\n",
       "      <td>0</td>\n",
       "      <td>3</td>\n",
       "      <td>0</td>\n",
       "      <td>1</td>\n",
       "      <td>!!!!!!! RT @UrKindOfBrand Dawg!!!! RT @80sbaby...</td>\n",
       "    </tr>\n",
       "    <tr>\n",
       "      <th>3</th>\n",
       "      <td>3</td>\n",
       "      <td>3</td>\n",
       "      <td>0</td>\n",
       "      <td>2</td>\n",
       "      <td>1</td>\n",
       "      <td>1</td>\n",
       "      <td>!!!!!!!!! RT @C_G_Anderson: @viva_based she lo...</td>\n",
       "    </tr>\n",
       "    <tr>\n",
       "      <th>4</th>\n",
       "      <td>4</td>\n",
       "      <td>6</td>\n",
       "      <td>0</td>\n",
       "      <td>6</td>\n",
       "      <td>0</td>\n",
       "      <td>1</td>\n",
       "      <td>!!!!!!!!!!!!! RT @ShenikaRoberts: The shit you...</td>\n",
       "    </tr>\n",
       "  </tbody>\n",
       "</table>\n",
       "</div>"
      ],
      "text/plain": [
       "   Unnamed: 0  count  hate_speech  offensive_language  neither  class  \\\n",
       "0           0      3            0                   0        3      2   \n",
       "1           1      3            0                   3        0      1   \n",
       "2           2      3            0                   3        0      1   \n",
       "3           3      3            0                   2        1      1   \n",
       "4           4      6            0                   6        0      1   \n",
       "\n",
       "                                               tweet  \n",
       "0  !!! RT @mayasolovely: As a woman you shouldn't...  \n",
       "1  !!!!! RT @mleew17: boy dats cold...tyga dwn ba...  \n",
       "2  !!!!!!! RT @UrKindOfBrand Dawg!!!! RT @80sbaby...  \n",
       "3  !!!!!!!!! RT @C_G_Anderson: @viva_based she lo...  \n",
       "4  !!!!!!!!!!!!! RT @ShenikaRoberts: The shit you...  "
      ]
     },
     "execution_count": 13,
     "metadata": {},
     "output_type": "execute_result"
    }
   ],
   "source": [
    "# Load the data to inspect it\n",
    "file_path =  \"/kaggle/input/hate-speech-and-offensive-language-dataset/labeled_data.csv\"\n",
    "data = pd.read_csv(file_path)\n",
    "\n",
    "# Display the first few rows of the dataset to understand its structure\n",
    "data.head()\n"
   ]
  },
  {
   "cell_type": "markdown",
   "id": "453645a7",
   "metadata": {
    "papermill": {
     "duration": 0.015532,
     "end_time": "2024-10-23T02:19:19.316884",
     "exception": false,
     "start_time": "2024-10-23T02:19:19.301352",
     "status": "completed"
    },
    "tags": []
   },
   "source": [
    "## Data Analysis"
   ]
  },
  {
   "cell_type": "code",
   "execution_count": 14,
   "id": "8c87c5a4",
   "metadata": {
    "execution": {
     "iopub.execute_input": "2024-10-23T02:19:19.348861Z",
     "iopub.status.busy": "2024-10-23T02:19:19.348183Z",
     "iopub.status.idle": "2024-10-23T02:19:19.381900Z",
     "shell.execute_reply": "2024-10-23T02:19:19.380538Z"
    },
    "papermill": {
     "duration": 0.051813,
     "end_time": "2024-10-23T02:19:19.384219",
     "exception": false,
     "start_time": "2024-10-23T02:19:19.332406",
     "status": "completed"
    },
    "tags": [],
    "vscode": {
     "languageId": "python"
    }
   },
   "outputs": [
    {
     "name": "stdout",
     "output_type": "stream",
     "text": [
      "   Unnamed: 0  count  hate_speech  offensive_language  neither  class  \\\n",
      "0           0      3            0                   0        3      2   \n",
      "1           1      3            0                   3        0      1   \n",
      "2           2      3            0                   3        0      1   \n",
      "3           3      3            0                   2        1      1   \n",
      "4           4      6            0                   6        0      1   \n",
      "\n",
      "                                               tweet  \n",
      "0  !!! RT @mayasolovely: As a woman you shouldn't...  \n",
      "1  !!!!! RT @mleew17: boy dats cold...tyga dwn ba...  \n",
      "2  !!!!!!! RT @UrKindOfBrand Dawg!!!! RT @80sbaby...  \n",
      "3  !!!!!!!!! RT @C_G_Anderson: @viva_based she lo...  \n",
      "4  !!!!!!!!!!!!! RT @ShenikaRoberts: The shit you...  \n",
      "         Unnamed: 0         count   hate_speech  offensive_language  \\\n",
      "count  24783.000000  24783.000000  24783.000000        24783.000000   \n",
      "mean   12681.192027      3.243473      0.280515            2.413711   \n",
      "std     7299.553863      0.883060      0.631851            1.399459   \n",
      "min        0.000000      3.000000      0.000000            0.000000   \n",
      "25%     6372.500000      3.000000      0.000000            2.000000   \n",
      "50%    12703.000000      3.000000      0.000000            3.000000   \n",
      "75%    18995.500000      3.000000      0.000000            3.000000   \n",
      "max    25296.000000      9.000000      7.000000            9.000000   \n",
      "\n",
      "            neither         class  \n",
      "count  24783.000000  24783.000000  \n",
      "mean       0.549247      1.110277  \n",
      "std        1.113299      0.462089  \n",
      "min        0.000000      0.000000  \n",
      "25%        0.000000      1.000000  \n",
      "50%        0.000000      1.000000  \n",
      "75%        0.000000      1.000000  \n",
      "max        9.000000      2.000000  \n"
     ]
    }
   ],
   "source": [
    "print(data.head())\n",
    "print(data.describe())"
   ]
  },
  {
   "cell_type": "code",
   "execution_count": 15,
   "id": "aa88bf4a",
   "metadata": {
    "execution": {
     "iopub.execute_input": "2024-10-23T02:19:19.417781Z",
     "iopub.status.busy": "2024-10-23T02:19:19.417441Z",
     "iopub.status.idle": "2024-10-23T02:19:19.427581Z",
     "shell.execute_reply": "2024-10-23T02:19:19.426687Z"
    },
    "papermill": {
     "duration": 0.029326,
     "end_time": "2024-10-23T02:19:19.429553",
     "exception": false,
     "start_time": "2024-10-23T02:19:19.400227",
     "status": "completed"
    },
    "tags": [],
    "vscode": {
     "languageId": "python"
    }
   },
   "outputs": [],
   "source": [
    "class_counts = data['class'].value_counts()\n"
   ]
  },
  {
   "cell_type": "code",
   "execution_count": 16,
   "id": "f01e35ab",
   "metadata": {
    "execution": {
     "iopub.execute_input": "2024-10-23T02:19:19.462707Z",
     "iopub.status.busy": "2024-10-23T02:19:19.462405Z",
     "iopub.status.idle": "2024-10-23T02:19:19.787428Z",
     "shell.execute_reply": "2024-10-23T02:19:19.786495Z"
    },
    "papermill": {
     "duration": 0.343887,
     "end_time": "2024-10-23T02:19:19.789578",
     "exception": false,
     "start_time": "2024-10-23T02:19:19.445691",
     "status": "completed"
    },
    "tags": [],
    "vscode": {
     "languageId": "python"
    }
   },
   "outputs": [
    {
     "data": {
      "image/png": "[encoded data removed]",
      "text/plain": [
       "<Figure size 800x600 with 1 Axes>"
      ]
     },
     "metadata": {},
     "output_type": "display_data"
    }
   ],
   "source": [
    "class_labels = {0: 'Hate Speech', 1: 'Offensive Language', 2: 'Neither'}\n",
    "\n",
    "plt.figure(figsize=(8, 6))\n",
    "class_counts.rename(index=class_labels).plot(kind='bar', color=['red', 'green', 'blue'])\n",
    "plt.title('Class Distribution in the Dataset')\n",
    "plt.xlabel('Class')\n",
    "plt.ylabel('Number of Samples')\n",
    "plt.xticks(rotation=0)\n",
    "plt.show()"
   ]
  },
  {
   "cell_type": "markdown",
   "id": "a9a61efc",
   "metadata": {
    "papermill": {
     "duration": 0.015231,
     "end_time": "2024-10-23T02:19:19.820938",
     "exception": false,
     "start_time": "2024-10-23T02:19:19.805707",
     "status": "completed"
    },
    "tags": []
   },
   "source": [
    "## Data Preprocessing"
   ]
  },
  {
   "cell_type": "code",
   "execution_count": 17,
   "id": "75e89d5c",
   "metadata": {
    "execution": {
     "iopub.execute_input": "2024-10-23T02:19:19.854461Z",
     "iopub.status.busy": "2024-10-23T02:19:19.853510Z",
     "iopub.status.idle": "2024-10-23T02:19:19.864096Z",
     "shell.execute_reply": "2024-10-23T02:19:19.863375Z"
    },
    "papermill": {
     "duration": 0.029535,
     "end_time": "2024-10-23T02:19:19.866108",
     "exception": false,
     "start_time": "2024-10-23T02:19:19.836573",
     "status": "completed"
    },
    "tags": [],
    "vscode": {
     "languageId": "python"
    }
   },
   "outputs": [],
   "source": [
    "# Remove the unnecessary 'Unnamed: 0' column\n",
    "data_cleaned = data.drop(columns=['Unnamed: 0'])"
   ]
  },
  {
   "cell_type": "code",
   "execution_count": 18,
   "id": "b52ffac4",
   "metadata": {
    "execution": {
     "iopub.execute_input": "2024-10-23T02:19:19.899473Z",
     "iopub.status.busy": "2024-10-23T02:19:19.899161Z",
     "iopub.status.idle": "2024-10-23T02:19:19.906584Z",
     "shell.execute_reply": "2024-10-23T02:19:19.905731Z"
    },
    "papermill": {
     "duration": 0.026488,
     "end_time": "2024-10-23T02:19:19.908537",
     "exception": false,
     "start_time": "2024-10-23T02:19:19.882049",
     "status": "completed"
    },
    "tags": [],
    "vscode": {
     "languageId": "python"
    }
   },
   "outputs": [],
   "source": [
    "missing_values = data_cleaned.isnull().sum()\n"
   ]
  },
  {
   "cell_type": "code",
   "execution_count": 19,
   "id": "a1360909",
   "metadata": {
    "execution": {
     "iopub.execute_input": "2024-10-23T02:19:19.940980Z",
     "iopub.status.busy": "2024-10-23T02:19:19.940410Z",
     "iopub.status.idle": "2024-10-23T02:19:19.948937Z",
     "shell.execute_reply": "2024-10-23T02:19:19.948233Z"
    },
    "papermill": {
     "duration": 0.026549,
     "end_time": "2024-10-23T02:19:19.950780",
     "exception": false,
     "start_time": "2024-10-23T02:19:19.924231",
     "status": "completed"
    },
    "tags": [],
    "vscode": {
     "languageId": "python"
    }
   },
   "outputs": [],
   "source": [
    "stop_words = set(stopwords.words('english'))\n",
    "\n",
    "def clean_tweet(text):\n",
    "    # Remove URLs\n",
    "    text = re.sub(r'http\\S+', '', text)\n",
    "    \n",
    "    # Remove menções\n",
    "    text = re.sub(r'@\\w+', '', text)\n",
    "    \n",
    "    # Remove caracteres especiais e números, mantendo apenas letras e espaços\n",
    "    text = re.sub(r'[^a-zA-Z\\s]', '', text)\n",
    "    \n",
    "    # Converte para minúsculas\n",
    "    text = text.lower()\n",
    "    \n",
    "    # Divide o texto em palavras e remove as stop words\n",
    "    words = text.split()\n",
    "    words = [word for word in words if word not in stop_words]\n",
    "    \n",
    "    # Junta as palavras de volta em uma string\n",
    "    clean_text = ' '.join(words)\n",
    "    \n",
    "    return clean_text"
   ]
  },
  {
   "cell_type": "code",
   "execution_count": 20,
   "id": "22175901",
   "metadata": {
    "execution": {
     "iopub.execute_input": "2024-10-23T02:19:19.982871Z",
     "iopub.status.busy": "2024-10-23T02:19:19.982600Z",
     "iopub.status.idle": "2024-10-23T02:19:20.302537Z",
     "shell.execute_reply": "2024-10-23T02:19:20.301729Z"
    },
    "papermill": {
     "duration": 0.338383,
     "end_time": "2024-10-23T02:19:20.304717",
     "exception": false,
     "start_time": "2024-10-23T02:19:19.966334",
     "status": "completed"
    },
    "tags": [],
    "vscode": {
     "languageId": "python"
    }
   },
   "outputs": [],
   "source": [
    "data_cleaned['tweet'] = data_cleaned['tweet'].apply(clean_tweet)\n"
   ]
  },
  {
   "cell_type": "code",
   "execution_count": 21,
   "id": "6c4dbf1c",
   "metadata": {
    "execution": {
     "iopub.execute_input": "2024-10-23T02:19:20.344501Z",
     "iopub.status.busy": "2024-10-23T02:19:20.343686Z",
     "iopub.status.idle": "2024-10-23T02:19:20.352843Z",
     "shell.execute_reply": "2024-10-23T02:19:20.351998Z"
    },
    "papermill": {
     "duration": 0.028006,
     "end_time": "2024-10-23T02:19:20.354666",
     "exception": false,
     "start_time": "2024-10-23T02:19:20.326660",
     "status": "completed"
    },
    "tags": [],
    "vscode": {
     "languageId": "python"
    }
   },
   "outputs": [
    {
     "data": {
      "text/plain": [
       "(   count  hate_speech  offensive_language  neither  class  \\\n",
       " 0      3            0                   0        3      2   \n",
       " 1      3            0                   3        0      1   \n",
       " 2      3            0                   3        0      1   \n",
       " 3      3            0                   2        1      1   \n",
       " 4      6            0                   6        0      1   \n",
       " \n",
       "                                                tweet  \n",
       " 0  rt woman shouldnt complain cleaning house amp ...  \n",
       " 1  rt boy dats coldtyga dwn bad cuffin dat hoe st...  \n",
       " 2  rt dawg rt ever fuck bitch start cry confused ...  \n",
       " 3                                rt look like tranny  \n",
       " 4  rt shit hear might true might faker bitch told ya  ,\n",
       " count                 0\n",
       " hate_speech           0\n",
       " offensive_language    0\n",
       " neither               0\n",
       " class                 0\n",
       " tweet                 0\n",
       " dtype: int64)"
      ]
     },
     "execution_count": 21,
     "metadata": {},
     "output_type": "execute_result"
    }
   ],
   "source": [
    "data_cleaned.head(), missing_values\n"
   ]
  },
  {
   "cell_type": "code",
   "execution_count": 22,
   "id": "b6568452",
   "metadata": {
    "execution": {
     "iopub.execute_input": "2024-10-23T02:19:20.387269Z",
     "iopub.status.busy": "2024-10-23T02:19:20.386986Z",
     "iopub.status.idle": "2024-10-23T02:19:20.411251Z",
     "shell.execute_reply": "2024-10-23T02:19:20.410298Z"
    },
    "papermill": {
     "duration": 0.04265,
     "end_time": "2024-10-23T02:19:20.413192",
     "exception": false,
     "start_time": "2024-10-23T02:19:20.370542",
     "status": "completed"
    },
    "tags": [],
    "vscode": {
     "languageId": "python"
    }
   },
   "outputs": [
    {
     "data": {
      "text/html": [
       "<div>\n",
       "<style scoped>\n",
       "    .dataframe tbody tr th:only-of-type {\n",
       "        vertical-align: middle;\n",
       "    }\n",
       "\n",
       "    .dataframe tbody tr th {\n",
       "        vertical-align: top;\n",
       "    }\n",
       "\n",
       "    .dataframe thead th {\n",
       "        text-align: right;\n",
       "    }\n",
       "</style>\n",
       "<table border=\"1\" class=\"dataframe\">\n",
       "  <thead>\n",
       "    <tr style=\"text-align: right;\">\n",
       "      <th></th>\n",
       "      <th>count</th>\n",
       "      <th>hate_speech</th>\n",
       "      <th>offensive_language</th>\n",
       "      <th>neither</th>\n",
       "      <th>class</th>\n",
       "    </tr>\n",
       "  </thead>\n",
       "  <tbody>\n",
       "    <tr>\n",
       "      <th>count</th>\n",
       "      <td>24783.000000</td>\n",
       "      <td>24783.000000</td>\n",
       "      <td>24783.000000</td>\n",
       "      <td>24783.000000</td>\n",
       "      <td>24783.000000</td>\n",
       "    </tr>\n",
       "    <tr>\n",
       "      <th>mean</th>\n",
       "      <td>3.243473</td>\n",
       "      <td>0.280515</td>\n",
       "      <td>2.413711</td>\n",
       "      <td>0.549247</td>\n",
       "      <td>1.110277</td>\n",
       "    </tr>\n",
       "    <tr>\n",
       "      <th>std</th>\n",
       "      <td>0.883060</td>\n",
       "      <td>0.631851</td>\n",
       "      <td>1.399459</td>\n",
       "      <td>1.113299</td>\n",
       "      <td>0.462089</td>\n",
       "    </tr>\n",
       "    <tr>\n",
       "      <th>min</th>\n",
       "      <td>3.000000</td>\n",
       "      <td>0.000000</td>\n",
       "      <td>0.000000</td>\n",
       "      <td>0.000000</td>\n",
       "      <td>0.000000</td>\n",
       "    </tr>\n",
       "    <tr>\n",
       "      <th>25%</th>\n",
       "      <td>3.000000</td>\n",
       "      <td>0.000000</td>\n",
       "      <td>2.000000</td>\n",
       "      <td>0.000000</td>\n",
       "      <td>1.000000</td>\n",
       "    </tr>\n",
       "    <tr>\n",
       "      <th>50%</th>\n",
       "      <td>3.000000</td>\n",
       "      <td>0.000000</td>\n",
       "      <td>3.000000</td>\n",
       "      <td>0.000000</td>\n",
       "      <td>1.000000</td>\n",
       "    </tr>\n",
       "    <tr>\n",
       "      <th>75%</th>\n",
       "      <td>3.000000</td>\n",
       "      <td>0.000000</td>\n",
       "      <td>3.000000</td>\n",
       "      <td>0.000000</td>\n",
       "      <td>1.000000</td>\n",
       "    </tr>\n",
       "    <tr>\n",
       "      <th>max</th>\n",
       "      <td>9.000000</td>\n",
       "      <td>7.000000</td>\n",
       "      <td>9.000000</td>\n",
       "      <td>9.000000</td>\n",
       "      <td>2.000000</td>\n",
       "    </tr>\n",
       "  </tbody>\n",
       "</table>\n",
       "</div>"
      ],
      "text/plain": [
       "              count   hate_speech  offensive_language       neither  \\\n",
       "count  24783.000000  24783.000000        24783.000000  24783.000000   \n",
       "mean       3.243473      0.280515            2.413711      0.549247   \n",
       "std        0.883060      0.631851            1.399459      1.113299   \n",
       "min        3.000000      0.000000            0.000000      0.000000   \n",
       "25%        3.000000      0.000000            2.000000      0.000000   \n",
       "50%        3.000000      0.000000            3.000000      0.000000   \n",
       "75%        3.000000      0.000000            3.000000      0.000000   \n",
       "max        9.000000      7.000000            9.000000      9.000000   \n",
       "\n",
       "              class  \n",
       "count  24783.000000  \n",
       "mean       1.110277  \n",
       "std        0.462089  \n",
       "min        0.000000  \n",
       "25%        1.000000  \n",
       "50%        1.000000  \n",
       "75%        1.000000  \n",
       "max        2.000000  "
      ]
     },
     "execution_count": 22,
     "metadata": {},
     "output_type": "execute_result"
    }
   ],
   "source": [
    "data_cleaned.describe()"
   ]
  },
  {
   "cell_type": "markdown",
   "id": "287af514",
   "metadata": {
    "papermill": {
     "duration": 0.016298,
     "end_time": "2024-10-23T02:19:20.445724",
     "exception": false,
     "start_time": "2024-10-23T02:19:20.429426",
     "status": "completed"
    },
    "tags": []
   },
   "source": [
    "# LSTM"
   ]
  },
  {
   "cell_type": "markdown",
   "id": "22296dd4",
   "metadata": {
    "papermill": {
     "duration": 0.015663,
     "end_time": "2024-10-23T02:19:20.478004",
     "exception": false,
     "start_time": "2024-10-23T02:19:20.462341",
     "status": "completed"
    },
    "tags": []
   },
   "source": [
    "## Splitting the Dataset and Tokenization"
   ]
  },
  {
   "cell_type": "code",
   "execution_count": 23,
   "id": "95622f2c",
   "metadata": {
    "execution": {
     "iopub.execute_input": "2024-10-23T02:19:20.511807Z",
     "iopub.status.busy": "2024-10-23T02:19:20.511497Z",
     "iopub.status.idle": "2024-10-23T02:19:20.522620Z",
     "shell.execute_reply": "2024-10-23T02:19:20.521653Z"
    },
    "papermill": {
     "duration": 0.030144,
     "end_time": "2024-10-23T02:19:20.524659",
     "exception": false,
     "start_time": "2024-10-23T02:19:20.494515",
     "status": "completed"
    },
    "tags": [],
    "vscode": {
     "languageId": "python"
    }
   },
   "outputs": [],
   "source": [
    "X_train, X_test, y_train, y_test = train_test_split(data_cleaned[\"tweet\"], data_cleaned['class'], test_size=0.2, random_state=42)\n",
    "\n",
    "y_train = to_categorical(y_train)\n",
    "y_test = to_categorical(y_test)"
   ]
  },
  {
   "cell_type": "code",
   "execution_count": 24,
   "id": "4c2e750b",
   "metadata": {
    "execution": {
     "iopub.execute_input": "2024-10-23T02:19:20.557399Z",
     "iopub.status.busy": "2024-10-23T02:19:20.557087Z",
     "iopub.status.idle": "2024-10-23T02:19:20.889718Z",
     "shell.execute_reply": "2024-10-23T02:19:20.888801Z"
    },
    "papermill": {
     "duration": 0.352097,
     "end_time": "2024-10-23T02:19:20.892669",
     "exception": false,
     "start_time": "2024-10-23T02:19:20.540572",
     "status": "completed"
    },
    "tags": [],
    "vscode": {
     "languageId": "python"
    }
   },
   "outputs": [],
   "source": [
    "tokenizer = Tokenizer()\n",
    "\n",
    "tokenizer.fit_on_texts(X_train)\n",
    "\n",
    "word_index = tokenizer.word_index"
   ]
  },
  {
   "cell_type": "code",
   "execution_count": 25,
   "id": "0f37cb4f",
   "metadata": {
    "execution": {
     "iopub.execute_input": "2024-10-23T02:19:20.926273Z",
     "iopub.status.busy": "2024-10-23T02:19:20.925969Z",
     "iopub.status.idle": "2024-10-23T02:19:21.254182Z",
     "shell.execute_reply": "2024-10-23T02:19:21.253278Z"
    },
    "papermill": {
     "duration": 0.347278,
     "end_time": "2024-10-23T02:19:21.256553",
     "exception": false,
     "start_time": "2024-10-23T02:19:20.909275",
     "status": "completed"
    },
    "tags": [],
    "vscode": {
     "languageId": "python"
    }
   },
   "outputs": [
    {
     "name": "stdout",
     "output_type": "stream",
     "text": [
      "25\n"
     ]
    }
   ],
   "source": [
    "X_train = tokenizer.texts_to_sequences(X_train)\n",
    "X_test = tokenizer.texts_to_sequences(X_test)\n",
    "\n",
    "max_length = 0\n",
    "for sequence in X_train:\n",
    "    sequence_length = len(sequence)\n",
    "    if sequence_length > max_length:\n",
    "        max_length = sequence_length\n",
    "\n",
    "\n",
    "print(max_length)"
   ]
  },
  {
   "cell_type": "code",
   "execution_count": 26,
   "id": "7ce09d25",
   "metadata": {
    "execution": {
     "iopub.execute_input": "2024-10-23T02:19:21.290468Z",
     "iopub.status.busy": "2024-10-23T02:19:21.290104Z",
     "iopub.status.idle": "2024-10-23T02:19:21.391627Z",
     "shell.execute_reply": "2024-10-23T02:19:21.390669Z"
    },
    "papermill": {
     "duration": 0.120934,
     "end_time": "2024-10-23T02:19:21.393897",
     "exception": false,
     "start_time": "2024-10-23T02:19:21.272963",
     "status": "completed"
    },
    "tags": [],
    "vscode": {
     "languageId": "python"
    }
   },
   "outputs": [],
   "source": [
    "X_train = pad_sequences(X_train,maxlen=max_length,padding='post')\n",
    "X_test = pad_sequences(X_test,maxlen=max_length,padding='post')"
   ]
  },
  {
   "cell_type": "code",
   "execution_count": 27,
   "id": "c2ee2a00",
   "metadata": {
    "execution": {
     "iopub.execute_input": "2024-10-23T02:19:21.427804Z",
     "iopub.status.busy": "2024-10-23T02:19:21.427486Z",
     "iopub.status.idle": "2024-10-23T02:19:21.432014Z",
     "shell.execute_reply": "2024-10-23T02:19:21.431123Z"
    },
    "papermill": {
     "duration": 0.023576,
     "end_time": "2024-10-23T02:19:21.433951",
     "exception": false,
     "start_time": "2024-10-23T02:19:21.410375",
     "status": "completed"
    },
    "tags": [],
    "vscode": {
     "languageId": "python"
    }
   },
   "outputs": [],
   "source": [
    "vocab_size = len(word_index) + 1\n",
    "embedding_dim = 128\n",
    "max_length = 25  # Tamanho máximo das sequências, definido previamente\n",
    "l2_reg = 0.01  # Regularization term\n"
   ]
  },
  {
   "cell_type": "code",
   "execution_count": 28,
   "id": "77fdd883",
   "metadata": {
    "execution": {
     "iopub.execute_input": "2024-10-23T02:19:21.466764Z",
     "iopub.status.busy": "2024-10-23T02:19:21.466481Z",
     "iopub.status.idle": "2024-10-23T02:19:21.539328Z",
     "shell.execute_reply": "2024-10-23T02:19:21.538620Z"
    },
    "papermill": {
     "duration": 0.09148,
     "end_time": "2024-10-23T02:19:21.541240",
     "exception": false,
     "start_time": "2024-10-23T02:19:21.449760",
     "status": "completed"
    },
    "tags": [],
    "vscode": {
     "languageId": "python"
    }
   },
   "outputs": [],
   "source": [
    "X_train_padded = pad_sequences(X_train, maxlen=max_length, padding='post', truncating='post')\n",
    "X_test_padded = pad_sequences(X_test, maxlen=max_length, padding='post', truncating='post')"
   ]
  },
  {
   "cell_type": "code",
   "execution_count": 29,
   "id": "ca206756",
   "metadata": {
    "execution": {
     "iopub.execute_input": "2024-10-23T02:19:21.574622Z",
     "iopub.status.busy": "2024-10-23T02:19:21.574293Z",
     "iopub.status.idle": "2024-10-23T02:19:21.579480Z",
     "shell.execute_reply": "2024-10-23T02:19:21.578376Z"
    },
    "papermill": {
     "duration": 0.024236,
     "end_time": "2024-10-23T02:19:21.581435",
     "exception": false,
     "start_time": "2024-10-23T02:19:21.557199",
     "status": "completed"
    },
    "tags": [],
    "vscode": {
     "languageId": "python"
    }
   },
   "outputs": [
    {
     "name": "stdout",
     "output_type": "stream",
     "text": [
      "num test tweet: 4957\n",
      "num train tweet: 19826\n"
     ]
    }
   ],
   "source": [
    "print(f\"num test tweet: {y_test.shape[0]}\")\n",
    "print(f\"num train tweet: {y_train.shape[0]}\")"
   ]
  },
  {
   "cell_type": "markdown",
   "id": "28051966",
   "metadata": {
    "papermill": {
     "duration": 0.015739,
     "end_time": "2024-10-23T02:19:21.613203",
     "exception": false,
     "start_time": "2024-10-23T02:19:21.597464",
     "status": "completed"
    },
    "tags": []
   },
   "source": [
    "## Modeling"
   ]
  },
  {
   "cell_type": "code",
   "execution_count": 30,
   "id": "9664a112",
   "metadata": {
    "execution": {
     "iopub.execute_input": "2024-10-23T02:19:21.647019Z",
     "iopub.status.busy": "2024-10-23T02:19:21.646703Z",
     "iopub.status.idle": "2024-10-23T02:19:22.323550Z",
     "shell.execute_reply": "2024-10-23T02:19:22.322579Z"
    },
    "papermill": {
     "duration": 0.696492,
     "end_time": "2024-10-23T02:19:22.325714",
     "exception": false,
     "start_time": "2024-10-23T02:19:21.629222",
     "status": "completed"
    },
    "tags": [],
    "vscode": {
     "languageId": "python"
    }
   },
   "outputs": [
    {
     "name": "stderr",
     "output_type": "stream",
     "text": [
      "/opt/conda/lib/python3.10/site-packages/keras/src/layers/core/embedding.py:90: UserWarning: Argument `input_length` is deprecated. Just remove it.\n",
      "  warnings.warn(\n"
     ]
    }
   ],
   "source": [
    "model = Sequential([\n",
    "    # Embedding layer\n",
    "    Embedding(input_dim=vocab_size, output_dim=embedding_dim, input_length=max_length),\n",
    "    \n",
    "    # Convolutional layer\n",
    "    Conv1D(filters=64, kernel_size=5, activation='relu', kernel_regularizer=l2(0.01)),\n",
    "    \n",
    "    # Batch Normalization\n",
    "    BatchNormalization(),\n",
    "    \n",
    "    # Max Pooling layer\n",
    "    MaxPooling1D(pool_size=2),\n",
    "    \n",
    "    # LSTM layer with L2 regularization and dropout\n",
    "    LSTM(32, dropout=0.4, recurrent_dropout=0.4, kernel_regularizer=l2(0.01)),\n",
    "    \n",
    "    # Dropout layer to prevent overfitting\n",
    "    Dropout(0.5),\n",
    "    \n",
    "    # Dense layer with reduced units and L2 regularization\n",
    "    Dense(64, activation='relu', kernel_regularizer=l2(0.01)),\n",
    "    \n",
    "    # Dropout\n",
    "    Dropout(0.5),\n",
    "    \n",
    "    # Output layer with softmax activation\n",
    "    Dense(3, activation='softmax'),\n",
    "])\n",
    "\n",
    "# Compile the model\n",
    "model.compile(loss=focal_loss(gamma=2., alpha=0.25), optimizer='adam', metrics=['accuracy'])\n"
   ]
  },
  {
   "cell_type": "markdown",
   "id": "b12af038",
   "metadata": {
    "papermill": {
     "duration": 0.016071,
     "end_time": "2024-10-23T02:19:22.358007",
     "exception": false,
     "start_time": "2024-10-23T02:19:22.341936",
     "status": "completed"
    },
    "tags": []
   },
   "source": [
    "## Training/Results"
   ]
  },
  {
   "cell_type": "code",
   "execution_count": 31,
   "id": "f3f56c4e",
   "metadata": {
    "execution": {
     "iopub.execute_input": "2024-10-23T02:19:22.391964Z",
     "iopub.status.busy": "2024-10-23T02:19:22.391641Z",
     "iopub.status.idle": "2024-10-23T02:19:22.395786Z",
     "shell.execute_reply": "2024-10-23T02:19:22.395036Z"
    },
    "papermill": {
     "duration": 0.023644,
     "end_time": "2024-10-23T02:19:22.397695",
     "exception": false,
     "start_time": "2024-10-23T02:19:22.374051",
     "status": "completed"
    },
    "tags": [],
    "vscode": {
     "languageId": "python"
    }
   },
   "outputs": [],
   "source": [
    "early_stopping = EarlyStopping(monitor='val_loss', patience=3, restore_best_weights=True)\n"
   ]
  },
  {
   "cell_type": "code",
   "execution_count": 32,
   "id": "b6565f33",
   "metadata": {
    "execution": {
     "iopub.execute_input": "2024-10-23T02:19:22.431289Z",
     "iopub.status.busy": "2024-10-23T02:19:22.430987Z",
     "iopub.status.idle": "2024-10-23T02:19:22.437885Z",
     "shell.execute_reply": "2024-10-23T02:19:22.436740Z"
    },
    "papermill": {
     "duration": 0.02609,
     "end_time": "2024-10-23T02:19:22.439898",
     "exception": false,
     "start_time": "2024-10-23T02:19:22.413808",
     "status": "completed"
    },
    "tags": [],
    "vscode": {
     "languageId": "python"
    }
   },
   "outputs": [
    {
     "name": "stdout",
     "output_type": "stream",
     "text": [
      "Classes únicas no conjunto de treino: [0. 1.]\n"
     ]
    }
   ],
   "source": [
    "print(\"Classes únicas no conjunto de treino:\", np.unique(y_train))\n"
   ]
  },
  {
   "cell_type": "code",
   "execution_count": 33,
   "id": "a19ec267",
   "metadata": {
    "execution": {
     "iopub.execute_input": "2024-10-23T02:19:22.474160Z",
     "iopub.status.busy": "2024-10-23T02:19:22.473863Z",
     "iopub.status.idle": "2024-10-23T02:19:22.478986Z",
     "shell.execute_reply": "2024-10-23T02:19:22.478100Z"
    },
    "papermill": {
     "duration": 0.02405,
     "end_time": "2024-10-23T02:19:22.480879",
     "exception": false,
     "start_time": "2024-10-23T02:19:22.456829",
     "status": "completed"
    },
    "tags": [],
    "vscode": {
     "languageId": "python"
    }
   },
   "outputs": [
    {
     "name": "stdout",
     "output_type": "stream",
     "text": [
      "Tipo de y_train: float64\n"
     ]
    }
   ],
   "source": [
    "print(f\"Tipo de y_train: {y_train.dtype}\")\n",
    "y_train = y_train.astype('int')\n"
   ]
  },
  {
   "cell_type": "code",
   "execution_count": 34,
   "id": "9189ab5a",
   "metadata": {
    "execution": {
     "iopub.execute_input": "2024-10-23T02:19:22.515128Z",
     "iopub.status.busy": "2024-10-23T02:19:22.514592Z",
     "iopub.status.idle": "2024-10-23T02:19:22.518858Z",
     "shell.execute_reply": "2024-10-23T02:19:22.517938Z"
    },
    "papermill": {
     "duration": 0.023454,
     "end_time": "2024-10-23T02:19:22.520867",
     "exception": false,
     "start_time": "2024-10-23T02:19:22.497413",
     "status": "completed"
    },
    "tags": [],
    "vscode": {
     "languageId": "python"
    }
   },
   "outputs": [],
   "source": [
    "class_weights_dict = {\n",
    "    0: 2.0,  # Higher weight for class 0 (minority)\n",
    "    1: 1.0,  # Default weight for class 1 (dominant class)\n",
    "    2: 1.5   # Somewhat higher weight for class 2 (moderate class)\n",
    "}"
   ]
  },
  {
   "cell_type": "code",
   "execution_count": 35,
   "id": "fb4833a2",
   "metadata": {
    "execution": {
     "iopub.execute_input": "2024-10-23T02:19:22.554924Z",
     "iopub.status.busy": "2024-10-23T02:19:22.554635Z",
     "iopub.status.idle": "2024-10-23T02:19:22.558833Z",
     "shell.execute_reply": "2024-10-23T02:19:22.558070Z"
    },
    "papermill": {
     "duration": 0.023236,
     "end_time": "2024-10-23T02:19:22.560721",
     "exception": false,
     "start_time": "2024-10-23T02:19:22.537485",
     "status": "completed"
    },
    "tags": [],
    "vscode": {
     "languageId": "python"
    }
   },
   "outputs": [],
   "source": [
    "metrics_callback = MetricsCallback(validation_data=(X_test_padded, y_test), train_data=(X_train_padded, y_train))\n"
   ]
  },
  {
   "cell_type": "code",
   "execution_count": 36,
   "id": "2caf1f7c",
   "metadata": {
    "execution": {
     "iopub.execute_input": "2024-10-23T02:19:22.594911Z",
     "iopub.status.busy": "2024-10-23T02:19:22.594585Z",
     "iopub.status.idle": "2024-10-23T02:21:02.946376Z",
     "shell.execute_reply": "2024-10-23T02:21:02.945392Z"
    },
    "papermill": {
     "duration": 100.3715,
     "end_time": "2024-10-23T02:21:02.948482",
     "exception": false,
     "start_time": "2024-10-23T02:19:22.576982",
     "status": "completed"
    },
    "tags": [],
    "vscode": {
     "languageId": "python"
    }
   },
   "outputs": [
    {
     "name": "stdout",
     "output_type": "stream",
     "text": [
      "Epoch 1/15\n",
      "\u001b[1m155/155\u001b[0m \u001b[32m━━━━━━━━━━━━━━━━━━━━\u001b[0m\u001b[37m\u001b[0m \u001b[1m1s\u001b[0m 7ms/step\n",
      "\u001b[1m620/620\u001b[0m \u001b[32m━━━━━━━━━━━━━━━━━━━━\u001b[0m\u001b[37m\u001b[0m \u001b[1m4s\u001b[0m 6ms/step\n",
      "\n",
      "Epoch 1 - Train F1: 0.8713, Train Precision: 0.8791, Train Recall: 0.8637\n",
      "Val F1: 0.8464, Val Precision: 0.8623, Val Recall: 0.8330\n",
      "620/620 - 28s - 45ms/step - accuracy: 0.8201 - loss: 0.2345 - val_accuracy: 0.8848 - val_loss: 0.0459\n",
      "Epoch 2/15\n",
      "\u001b[1m155/155\u001b[0m \u001b[32m━━━━━━━━━━━━━━━━━━━━\u001b[0m\u001b[37m\u001b[0m \u001b[1m1s\u001b[0m 5ms/step\n",
      "\u001b[1m620/620\u001b[0m \u001b[32m━━━━━━━━━━━━━━━━━━━━\u001b[0m\u001b[37m\u001b[0m \u001b[1m3s\u001b[0m 5ms/step\n",
      "\n",
      "Epoch 2 - Train F1: 0.8838, Train Precision: 0.8689, Train Recall: 0.9008\n",
      "Val F1: 0.8607, Val Precision: 0.8502, Val Recall: 0.8745\n",
      "620/620 - 18s - 28ms/step - accuracy: 0.8963 - loss: 0.0503 - val_accuracy: 0.8862 - val_loss: 0.0418\n",
      "Epoch 3/15\n",
      "\u001b[1m155/155\u001b[0m \u001b[32m━━━━━━━━━━━━━━━━━━━━\u001b[0m\u001b[37m\u001b[0m \u001b[1m1s\u001b[0m 6ms/step\n",
      "\u001b[1m620/620\u001b[0m \u001b[32m━━━━━━━━━━━━━━━━━━━━\u001b[0m\u001b[37m\u001b[0m \u001b[1m4s\u001b[0m 6ms/step\n",
      "\n",
      "Epoch 3 - Train F1: 0.8992, Train Precision: 0.8765, Train Recall: 0.9232\n",
      "Val F1: 0.8616, Val Precision: 0.8428, Val Recall: 0.8814\n",
      "620/620 - 18s - 29ms/step - accuracy: 0.9121 - loss: 0.0430 - val_accuracy: 0.8876 - val_loss: 0.0471\n",
      "Epoch 4/15\n",
      "\u001b[1m155/155\u001b[0m \u001b[32m━━━━━━━━━━━━━━━━━━━━\u001b[0m\u001b[37m\u001b[0m \u001b[1m1s\u001b[0m 6ms/step\n",
      "\u001b[1m620/620\u001b[0m \u001b[32m━━━━━━━━━━━━━━━━━━━━\u001b[0m\u001b[37m\u001b[0m \u001b[1m4s\u001b[0m 6ms/step\n",
      "\n",
      "Epoch 4 - Train F1: 0.9040, Train Precision: 0.8814, Train Recall: 0.9283\n",
      "Val F1: 0.8537, Val Precision: 0.8384, Val Recall: 0.8713\n",
      "620/620 - 18s - 29ms/step - accuracy: 0.9221 - loss: 0.0385 - val_accuracy: 0.8830 - val_loss: 0.0511\n",
      "Epoch 5/15\n",
      "\u001b[1m155/155\u001b[0m \u001b[32m━━━━━━━━━━━━━━━━━━━━\u001b[0m\u001b[37m\u001b[0m \u001b[1m1s\u001b[0m 6ms/step\n",
      "\u001b[1m620/620\u001b[0m \u001b[32m━━━━━━━━━━━━━━━━━━━━\u001b[0m\u001b[37m\u001b[0m \u001b[1m4s\u001b[0m 6ms/step\n",
      "\n",
      "Epoch 5 - Train F1: 0.9049, Train Precision: 0.8819, Train Recall: 0.9298\n",
      "Val F1: 0.8550, Val Precision: 0.8380, Val Recall: 0.8751\n",
      "620/620 - 18s - 29ms/step - accuracy: 0.9250 - loss: 0.0376 - val_accuracy: 0.8826 - val_loss: 0.0565\n",
      "155/155 - 1s - 6ms/step - accuracy: 0.8862 - loss: 0.0418\n",
      "Acurácia no conjunto de teste: 0.8862215280532837\n"
     ]
    }
   ],
   "source": [
    "# Treinamento do modelo\n",
    "history = model.fit(\n",
    "    X_train_padded,           # Dados de treino após padding\n",
    "    y_train,                 # Rótulos de treino\n",
    "    epochs=15,               # Número de épocas\n",
    "    batch_size=32,                                                                                                                                                                                                                                                                                                                                                                                                                                                                                                                                                                                                                                                                                                                                                                                                                                                                                                                                   \n",
    "    validation_data=(X_test_padded, y_test),  # Dados de validação\n",
    "    callbacks=[early_stopping, metrics_callback],\n",
    "    verbose=2,                # Nível de detalhamento do output\n",
    "    class_weight=class_weights_dict  # Pass the class weights here\n",
    ")\n",
    "\n",
    "# Avaliar o modelo nos dados de teste\n",
    "test_loss, test_accuracy = model.evaluate(X_test_padded, y_test, verbose=2)\n",
    "print(f'Acurácia no conjunto de teste: {test_accuracy}')\n"
   ]
  },
  {
   "cell_type": "code",
   "execution_count": 37,
   "id": "928817c0",
   "metadata": {
    "execution": {
     "iopub.execute_input": "2024-10-23T02:21:03.089407Z",
     "iopub.status.busy": "2024-10-23T02:21:03.088624Z",
     "iopub.status.idle": "2024-10-23T02:21:04.097396Z",
     "shell.execute_reply": "2024-10-23T02:21:04.096284Z"
    },
    "papermill": {
     "duration": 1.061897,
     "end_time": "2024-10-23T02:21:04.099318",
     "exception": false,
     "start_time": "2024-10-23T02:21:03.037421",
     "status": "completed"
    },
    "tags": [],
    "vscode": {
     "languageId": "python"
    }
   },
   "outputs": [
    {
     "name": "stdout",
     "output_type": "stream",
     "text": [
      "155/155 - 1s - 6ms/step - accuracy: 0.8862 - loss: 0.0418\n",
      "Acurácia no conjunto de teste: 0.8862215280532837\n"
     ]
    }
   ],
   "source": [
    "test_loss, test_accuracy = model.evaluate(X_test_padded, y_test, verbose=2)\n",
    "print(f'Acurácia no conjunto de teste: {test_accuracy}')"
   ]
  },
  {
   "cell_type": "code",
   "execution_count": 38,
   "id": "1c0afa91",
   "metadata": {
    "execution": {
     "iopub.execute_input": "2024-10-23T02:21:04.202821Z",
     "iopub.status.busy": "2024-10-23T02:21:04.202172Z",
     "iopub.status.idle": "2024-10-23T02:21:05.332293Z",
     "shell.execute_reply": "2024-10-23T02:21:05.331330Z"
    },
    "papermill": {
     "duration": 1.184015,
     "end_time": "2024-10-23T02:21:05.334521",
     "exception": false,
     "start_time": "2024-10-23T02:21:04.150506",
     "status": "completed"
    },
    "tags": [],
    "vscode": {
     "languageId": "python"
    }
   },
   "outputs": [
    {
     "data": {
      "image/png": "[encoded data removed]",
      "text/plain": [
       "<Figure size 1200x800 with 4 Axes>"
      ]
     },
     "metadata": {},
     "output_type": "display_data"
    }
   ],
   "source": [
    "plot_metrics(metrics_callback)\n"
   ]
  },
  {
   "cell_type": "code",
   "execution_count": 39,
   "id": "22892daa",
   "metadata": {
    "execution": {
     "iopub.execute_input": "2024-10-23T02:21:05.445030Z",
     "iopub.status.busy": "2024-10-23T02:21:05.444672Z",
     "iopub.status.idle": "2024-10-23T02:21:05.449662Z",
     "shell.execute_reply": "2024-10-23T02:21:05.448753Z"
    },
    "papermill": {
     "duration": 0.059935,
     "end_time": "2024-10-23T02:21:05.451567",
     "exception": false,
     "start_time": "2024-10-23T02:21:05.391632",
     "status": "completed"
    },
    "tags": [],
    "vscode": {
     "languageId": "python"
    }
   },
   "outputs": [],
   "source": [
    "if len(y_test.shape) > 1 and y_test.shape[1] > 1:\n",
    "    y_test = np.argmax(y_test, axis=1)"
   ]
  },
  {
   "cell_type": "code",
   "execution_count": 40,
   "id": "e93e9856",
   "metadata": {
    "execution": {
     "iopub.execute_input": "2024-10-23T02:21:05.557257Z",
     "iopub.status.busy": "2024-10-23T02:21:05.556925Z",
     "iopub.status.idle": "2024-10-23T02:21:06.565719Z",
     "shell.execute_reply": "2024-10-23T02:21:06.564880Z"
    },
    "papermill": {
     "duration": 1.063924,
     "end_time": "2024-10-23T02:21:06.567685",
     "exception": false,
     "start_time": "2024-10-23T02:21:05.503761",
     "status": "completed"
    },
    "tags": [],
    "vscode": {
     "languageId": "python"
    }
   },
   "outputs": [
    {
     "name": "stdout",
     "output_type": "stream",
     "text": [
      "\u001b[1m155/155\u001b[0m \u001b[32m━━━━━━━━━━━━━━━━━━━━\u001b[0m\u001b[37m\u001b[0m \u001b[1m1s\u001b[0m 6ms/step\n"
     ]
    }
   ],
   "source": [
    "y_pred = model.predict(X_test)\n",
    "y_pred_classes = np.argmax(y_pred, axis=1) "
   ]
  },
  {
   "cell_type": "code",
   "execution_count": 41,
   "id": "5868d451",
   "metadata": {
    "execution": {
     "iopub.execute_input": "2024-10-23T02:21:06.677190Z",
     "iopub.status.busy": "2024-10-23T02:21:06.676844Z",
     "iopub.status.idle": "2024-10-23T02:21:06.888267Z",
     "shell.execute_reply": "2024-10-23T02:21:06.887315Z"
    },
    "papermill": {
     "duration": 0.269334,
     "end_time": "2024-10-23T02:21:06.891944",
     "exception": false,
     "start_time": "2024-10-23T02:21:06.622610",
     "status": "completed"
    },
    "tags": [],
    "vscode": {
     "languageId": "python"
    }
   },
   "outputs": [
    {
     "data": {
      "image/png": "[encoded data removed]",
      "text/plain": [
       "<Figure size 640x480 with 2 Axes>"
      ]
     },
     "metadata": {},
     "output_type": "display_data"
    }
   ],
   "source": [
    "Conf_matrix_2(y_test, y_pred_classes)\n"
   ]
  }
 ],
 "metadata": {
  "kaggle": {
   "accelerator": "nvidiaTeslaT4",
   "dataSources": [
    {
     "datasetId": 723100,
     "sourceId": 1257215,
     "sourceType": "datasetVersion"
    }
   ],
   "dockerImageVersionId": 30787,
   "isGpuEnabled": true,
   "isInternetEnabled": true,
   "language": "python",
   "sourceType": "notebook"
  },
  "kernelspec": {
   "display_name": "Python 3",
   "language": "python",
   "name": "python3"
  },
  "language_info": {
   "codemirror_mode": {
    "name": "ipython",
    "version": 3
   },
   "file_extension": ".py",
   "mimetype": "text/x-python",
   "name": "python",
   "nbconvert_exporter": "python",
   "pygments_lexer": "ipython3",
   "version": "3.10.14"
  },
  "papermill": {
   "default_parameters": {},
   "duration": 171.935221,
   "end_time": "2024-10-23T02:21:10.583825",
   "environment_variables": {},
   "exception": null,
   "input_path": "__notebook__.ipynb",
   "output_path": "__notebook__.ipynb",
   "parameters": {},
   "start_time": "2024-10-23T02:18:18.648604",
   "version": "2.6.0"
  }
 },
 "nbformat": 4,
 "nbformat_minor": 5
}
